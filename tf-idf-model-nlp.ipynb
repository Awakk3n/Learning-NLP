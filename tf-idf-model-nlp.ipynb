{
 "cells": [
  {
   "cell_type": "markdown",
   "id": "83989ea5",
   "metadata": {
    "papermill": {
     "duration": 0.015902,
     "end_time": "2024-10-10T10:16:59.661539",
     "exception": false,
     "start_time": "2024-10-10T10:16:59.645637",
     "status": "completed"
    },
    "tags": []
   },
   "source": [
    "# Libraries"
   ]
  },
  {
   "cell_type": "code",
   "execution_count": 1,
   "id": "a525ab4f",
   "metadata": {
    "execution": {
     "iopub.execute_input": "2024-10-10T10:16:59.696498Z",
     "iopub.status.busy": "2024-10-10T10:16:59.696056Z",
     "iopub.status.idle": "2024-10-10T10:17:03.772636Z",
     "shell.execute_reply": "2024-10-10T10:17:03.771405Z"
    },
    "papermill": {
     "duration": 4.098214,
     "end_time": "2024-10-10T10:17:03.775685",
     "exception": false,
     "start_time": "2024-10-10T10:16:59.677471",
     "status": "completed"
    },
    "tags": []
   },
   "outputs": [],
   "source": [
    "import numpy as np\n",
    "import pandas as pd\n",
    "import matplotlib.pyplot as plt\n",
    "import seaborn as sns\n",
    "\n",
    "plt.rc('figure', figsize=(6,4))\n",
    "%matplotlib inline\n",
    "\n",
    "import nltk\n",
    "from nltk.tokenize import word_tokenize\n",
    "from nltk.stem import SnowballStemmer\n",
    "from nltk.corpus import stopwords"
   ]
  },
  {
   "cell_type": "code",
   "execution_count": 2,
   "id": "88646073",
   "metadata": {
    "execution": {
     "iopub.execute_input": "2024-10-10T10:17:03.808536Z",
     "iopub.status.busy": "2024-10-10T10:17:03.807915Z",
     "iopub.status.idle": "2024-10-10T10:17:03.814099Z",
     "shell.execute_reply": "2024-10-10T10:17:03.812978Z"
    },
    "papermill": {
     "duration": 0.025466,
     "end_time": "2024-10-10T10:17:03.816663",
     "exception": false,
     "start_time": "2024-10-10T10:17:03.791197",
     "status": "completed"
    },
    "tags": []
   },
   "outputs": [],
   "source": [
    "from sklearn.feature_extraction.text import TfidfVectorizer\n",
    "from sklearn.model_selection import train_test_split\n",
    "from sklearn.metrics import f1_score, accuracy_score"
   ]
  },
  {
   "cell_type": "code",
   "execution_count": 3,
   "id": "afc015a7",
   "metadata": {
    "execution": {
     "iopub.execute_input": "2024-10-10T10:17:03.848790Z",
     "iopub.status.busy": "2024-10-10T10:17:03.848359Z",
     "iopub.status.idle": "2024-10-10T10:17:07.478548Z",
     "shell.execute_reply": "2024-10-10T10:17:07.477377Z"
    },
    "papermill": {
     "duration": 3.6495,
     "end_time": "2024-10-10T10:17:07.481323",
     "exception": false,
     "start_time": "2024-10-10T10:17:03.831823",
     "status": "completed"
    },
    "tags": []
   },
   "outputs": [],
   "source": [
    "import torch\n",
    "import torch.nn as nn \n",
    "import torch.nn.functional as F\n",
    "from torch.utils.data import DataLoader, TensorDataset"
   ]
  },
  {
   "cell_type": "code",
   "execution_count": 4,
   "id": "106dd353",
   "metadata": {
    "execution": {
     "iopub.execute_input": "2024-10-10T10:17:07.514864Z",
     "iopub.status.busy": "2024-10-10T10:17:07.514213Z",
     "iopub.status.idle": "2024-10-10T10:17:07.520415Z",
     "shell.execute_reply": "2024-10-10T10:17:07.519090Z"
    },
    "papermill": {
     "duration": 0.025629,
     "end_time": "2024-10-10T10:17:07.522972",
     "exception": false,
     "start_time": "2024-10-10T10:17:07.497343",
     "status": "completed"
    },
    "tags": []
   },
   "outputs": [],
   "source": [
    "data_dir = '../input/quora-insincere-questions-classification'\n",
    "train_fname= data_dir + '/train.csv'\n",
    "test_fname= data_dir + '/test.csv'\n",
    "sub_fname= data_dir + '/sample_submission.csv'"
   ]
  },
  {
   "cell_type": "markdown",
   "id": "406949b5",
   "metadata": {
    "papermill": {
     "duration": 0.014974,
     "end_time": "2024-10-10T10:17:07.553371",
     "exception": false,
     "start_time": "2024-10-10T10:17:07.538397",
     "status": "completed"
    },
    "tags": []
   },
   "source": [
    "# Analysis and Loading"
   ]
  },
  {
   "cell_type": "code",
   "execution_count": 5,
   "id": "d52f7e9d",
   "metadata": {
    "execution": {
     "iopub.execute_input": "2024-10-10T10:17:07.586100Z",
     "iopub.status.busy": "2024-10-10T10:17:07.585594Z",
     "iopub.status.idle": "2024-10-10T10:17:13.635635Z",
     "shell.execute_reply": "2024-10-10T10:17:13.634358Z"
    },
    "papermill": {
     "duration": 6.070046,
     "end_time": "2024-10-10T10:17:13.638642",
     "exception": false,
     "start_time": "2024-10-10T10:17:07.568596",
     "status": "completed"
    },
    "tags": []
   },
   "outputs": [],
   "source": [
    "raw_df=pd.read_csv(train_fname)\n",
    "test_df=pd.read_csv(test_fname)"
   ]
  },
  {
   "cell_type": "code",
   "execution_count": 6,
   "id": "fbc887e5",
   "metadata": {
    "execution": {
     "iopub.execute_input": "2024-10-10T10:17:13.671046Z",
     "iopub.status.busy": "2024-10-10T10:17:13.670563Z",
     "iopub.status.idle": "2024-10-10T10:17:13.741142Z",
     "shell.execute_reply": "2024-10-10T10:17:13.739916Z"
    },
    "papermill": {
     "duration": 0.089904,
     "end_time": "2024-10-10T10:17:13.743878",
     "exception": false,
     "start_time": "2024-10-10T10:17:13.653974",
     "status": "completed"
    },
    "tags": []
   },
   "outputs": [
    {
     "data": {
      "text/plain": [
       "array(['How are attorneys like Bennet Kelley allowed to make false claims to the courts and illegally use his wife Wanda Rudd as a process server?',\n",
       "       'How do I become successful after the age of 40?',\n",
       "       'What is the best thing about the NBA?',\n",
       "       'Do you use any wild west ring tones when you use a phone holster?',\n",
       "       'Does having more money bring happiness?'], dtype=object)"
      ]
     },
     "execution_count": 6,
     "metadata": {},
     "output_type": "execute_result"
    }
   ],
   "source": [
    "raw_df.question_text.sample(10).values[:5]"
   ]
  },
  {
   "cell_type": "code",
   "execution_count": 7,
   "id": "aa265ae9",
   "metadata": {
    "execution": {
     "iopub.execute_input": "2024-10-10T10:17:13.776582Z",
     "iopub.status.busy": "2024-10-10T10:17:13.776137Z",
     "iopub.status.idle": "2024-10-10T10:17:13.798573Z",
     "shell.execute_reply": "2024-10-10T10:17:13.797479Z"
    },
    "papermill": {
     "duration": 0.041915,
     "end_time": "2024-10-10T10:17:13.801264",
     "exception": false,
     "start_time": "2024-10-10T10:17:13.759349",
     "status": "completed"
    },
    "tags": []
   },
   "outputs": [
    {
     "data": {
      "text/plain": [
       "array(['How can I disable Indian answers on my feed?',\n",
       "       'What game will replace chess and go as a way to amuse humans?',\n",
       "       'How do you write a congratulations message to newly weds?',\n",
       "       'How is ozone in the troposphere formed?',\n",
       "       'What are some of the theories of continental drift?'],\n",
       "      dtype=object)"
      ]
     },
     "execution_count": 7,
     "metadata": {},
     "output_type": "execute_result"
    }
   ],
   "source": [
    "test_df.question_text.sample(10).values[:5]"
   ]
  },
  {
   "cell_type": "code",
   "execution_count": 8,
   "id": "dddf31ca",
   "metadata": {
    "execution": {
     "iopub.execute_input": "2024-10-10T10:17:13.836757Z",
     "iopub.status.busy": "2024-10-10T10:17:13.835737Z",
     "iopub.status.idle": "2024-10-10T10:17:14.254134Z",
     "shell.execute_reply": "2024-10-10T10:17:14.252961Z"
    },
    "papermill": {
     "duration": 0.438091,
     "end_time": "2024-10-10T10:17:14.257004",
     "exception": false,
     "start_time": "2024-10-10T10:17:13.818913",
     "status": "completed"
    },
    "tags": []
   },
   "outputs": [],
   "source": [
    "sample_size=len(raw_df)\n",
    "sample_df=raw_df.sample(sample_size)"
   ]
  },
  {
   "cell_type": "code",
   "execution_count": 9,
   "id": "e97d2a88",
   "metadata": {
    "execution": {
     "iopub.execute_input": "2024-10-10T10:17:14.289773Z",
     "iopub.status.busy": "2024-10-10T10:17:14.289339Z",
     "iopub.status.idle": "2024-10-10T10:17:14.346230Z",
     "shell.execute_reply": "2024-10-10T10:17:14.345129Z"
    },
    "papermill": {
     "duration": 0.076367,
     "end_time": "2024-10-10T10:17:14.348812",
     "exception": false,
     "start_time": "2024-10-10T10:17:14.272445",
     "status": "completed"
    },
    "tags": []
   },
   "outputs": [
    {
     "data": {
      "text/plain": [
       "array(['How would you use a Death Note to achieve world domination?',\n",
       "       'Why do you think Canada is the best country in the world, why and how it should attract young people to stay there or move there?',\n",
       "       'What does it mean if a Harvard admissions officer contacted on of my recommenders and had an interview with them about me?',\n",
       "       'How do I become a construction valuation engineer?',\n",
       "       'Is it possible to resume college studies after 10 years?'],\n",
       "      dtype=object)"
      ]
     },
     "execution_count": 9,
     "metadata": {},
     "output_type": "execute_result"
    }
   ],
   "source": [
    "sample_df.question_text.sample(10).values[:5]"
   ]
  },
  {
   "cell_type": "code",
   "execution_count": 10,
   "id": "665934d7",
   "metadata": {
    "execution": {
     "iopub.execute_input": "2024-10-10T10:17:14.381991Z",
     "iopub.status.busy": "2024-10-10T10:17:14.381554Z",
     "iopub.status.idle": "2024-10-10T10:17:14.412726Z",
     "shell.execute_reply": "2024-10-10T10:17:14.411427Z"
    },
    "papermill": {
     "duration": 0.050917,
     "end_time": "2024-10-10T10:17:14.415295",
     "exception": false,
     "start_time": "2024-10-10T10:17:14.364378",
     "status": "completed"
    },
    "tags": []
   },
   "outputs": [
    {
     "data": {
      "text/plain": [
       "target\n",
       "0    0.93813\n",
       "1    0.06187\n",
       "Name: proportion, dtype: float64"
      ]
     },
     "execution_count": 10,
     "metadata": {},
     "output_type": "execute_result"
    }
   ],
   "source": [
    "sample_df.target.value_counts(normalize=True)"
   ]
  },
  {
   "cell_type": "markdown",
   "id": "17070fa9",
   "metadata": {
    "papermill": {
     "duration": 0.015424,
     "end_time": "2024-10-10T10:17:14.446544",
     "exception": false,
     "start_time": "2024-10-10T10:17:14.431120",
     "status": "completed"
    },
    "tags": []
   },
   "source": [
    "# Preprocessing"
   ]
  },
  {
   "cell_type": "markdown",
   "id": "43f7cd0a",
   "metadata": {
    "papermill": {
     "duration": 0.015306,
     "end_time": "2024-10-10T10:17:14.477584",
     "exception": false,
     "start_time": "2024-10-10T10:17:14.462278",
     "status": "completed"
    },
    "tags": []
   },
   "source": [
    "## TF-IDF Vectorization"
   ]
  },
  {
   "cell_type": "code",
   "execution_count": 11,
   "id": "6c89bf68",
   "metadata": {
    "execution": {
     "iopub.execute_input": "2024-10-10T10:17:14.510782Z",
     "iopub.status.busy": "2024-10-10T10:17:14.510331Z",
     "iopub.status.idle": "2024-10-10T10:17:14.533284Z",
     "shell.execute_reply": "2024-10-10T10:17:14.532175Z"
    },
    "papermill": {
     "duration": 0.042521,
     "end_time": "2024-10-10T10:17:14.535832",
     "exception": false,
     "start_time": "2024-10-10T10:17:14.493311",
     "status": "completed"
    },
    "tags": []
   },
   "outputs": [
    {
     "data": {
      "text/plain": [
       "['testing', ',', 'a', 'lot', ',', 'of', 'punctuations', '!', '!']"
      ]
     },
     "execution_count": 11,
     "metadata": {},
     "output_type": "execute_result"
    }
   ],
   "source": [
    "word_tokenize(\"testing, a lot, of punctuations!!\")"
   ]
  },
  {
   "cell_type": "code",
   "execution_count": 12,
   "id": "9bd31dcf",
   "metadata": {
    "execution": {
     "iopub.execute_input": "2024-10-10T10:17:14.570728Z",
     "iopub.status.busy": "2024-10-10T10:17:14.570298Z",
     "iopub.status.idle": "2024-10-10T10:17:14.576160Z",
     "shell.execute_reply": "2024-10-10T10:17:14.574972Z"
    },
    "papermill": {
     "duration": 0.026344,
     "end_time": "2024-10-10T10:17:14.578523",
     "exception": false,
     "start_time": "2024-10-10T10:17:14.552179",
     "status": "completed"
    },
    "tags": []
   },
   "outputs": [],
   "source": [
    "stemmer= SnowballStemmer(language='english')"
   ]
  },
  {
   "cell_type": "code",
   "execution_count": 13,
   "id": "e0aa8375",
   "metadata": {
    "execution": {
     "iopub.execute_input": "2024-10-10T10:17:14.612934Z",
     "iopub.status.busy": "2024-10-10T10:17:14.611884Z",
     "iopub.status.idle": "2024-10-10T10:17:14.619857Z",
     "shell.execute_reply": "2024-10-10T10:17:14.618742Z"
    },
    "papermill": {
     "duration": 0.028309,
     "end_time": "2024-10-10T10:17:14.622696",
     "exception": false,
     "start_time": "2024-10-10T10:17:14.594387",
     "status": "completed"
    },
    "tags": []
   },
   "outputs": [
    {
     "data": {
      "text/plain": [
       "('butterfli', 'do', 'realli')"
      ]
     },
     "execution_count": 13,
     "metadata": {},
     "output_type": "execute_result"
    }
   ],
   "source": [
    "stemmer.stem(\"butterflies\"), stemmer.stem(\"doing\"), stemmer.stem(\"really\")"
   ]
  },
  {
   "cell_type": "code",
   "execution_count": 14,
   "id": "03ebbdf0",
   "metadata": {
    "execution": {
     "iopub.execute_input": "2024-10-10T10:17:14.657369Z",
     "iopub.status.busy": "2024-10-10T10:17:14.656912Z",
     "iopub.status.idle": "2024-10-10T10:17:14.662542Z",
     "shell.execute_reply": "2024-10-10T10:17:14.661386Z"
    },
    "papermill": {
     "duration": 0.025979,
     "end_time": "2024-10-10T10:17:14.665151",
     "exception": false,
     "start_time": "2024-10-10T10:17:14.639172",
     "status": "completed"
    },
    "tags": []
   },
   "outputs": [],
   "source": [
    "def tokenize(text):\n",
    "    return [stemmer.stem(token) for token in word_tokenize(text)]"
   ]
  },
  {
   "cell_type": "code",
   "execution_count": 15,
   "id": "6244df13",
   "metadata": {
    "execution": {
     "iopub.execute_input": "2024-10-10T10:17:14.699473Z",
     "iopub.status.busy": "2024-10-10T10:17:14.698960Z",
     "iopub.status.idle": "2024-10-10T10:17:14.707116Z",
     "shell.execute_reply": "2024-10-10T10:17:14.705981Z"
    },
    "papermill": {
     "duration": 0.028377,
     "end_time": "2024-10-10T10:17:14.709701",
     "exception": false,
     "start_time": "2024-10-10T10:17:14.681324",
     "status": "completed"
    },
    "tags": []
   },
   "outputs": [
    {
     "data": {
      "text/plain": [
       "['test', 'token', ',', 'realli', 'good', 'enough', '!']"
      ]
     },
     "execution_count": 15,
     "metadata": {},
     "output_type": "execute_result"
    }
   ],
   "source": [
    "tokenize(\"testing tokenizer, really good enough!\")"
   ]
  },
  {
   "cell_type": "code",
   "execution_count": 16,
   "id": "1a873915",
   "metadata": {
    "execution": {
     "iopub.execute_input": "2024-10-10T10:17:14.744323Z",
     "iopub.status.busy": "2024-10-10T10:17:14.743859Z",
     "iopub.status.idle": "2024-10-10T10:17:14.753045Z",
     "shell.execute_reply": "2024-10-10T10:17:14.751884Z"
    },
    "papermill": {
     "duration": 0.029737,
     "end_time": "2024-10-10T10:17:14.755748",
     "exception": false,
     "start_time": "2024-10-10T10:17:14.726011",
     "status": "completed"
    },
    "tags": []
   },
   "outputs": [],
   "source": [
    "english_stopwords= stopwords.words('english')"
   ]
  },
  {
   "cell_type": "code",
   "execution_count": 17,
   "id": "c4fa94a2",
   "metadata": {
    "execution": {
     "iopub.execute_input": "2024-10-10T10:17:14.791235Z",
     "iopub.status.busy": "2024-10-10T10:17:14.790781Z",
     "iopub.status.idle": "2024-10-10T10:17:14.796461Z",
     "shell.execute_reply": "2024-10-10T10:17:14.795310Z"
    },
    "papermill": {
     "duration": 0.025937,
     "end_time": "2024-10-10T10:17:14.798954",
     "exception": false,
     "start_time": "2024-10-10T10:17:14.773017",
     "status": "completed"
    },
    "tags": []
   },
   "outputs": [],
   "source": [
    "vectorizer= TfidfVectorizer(tokenizer=tokenize,\n",
    "                            stop_words=english_stopwords, max_features=1024)"
   ]
  },
  {
   "cell_type": "code",
   "execution_count": 18,
   "id": "8409923a",
   "metadata": {
    "execution": {
     "iopub.execute_input": "2024-10-10T10:17:14.835600Z",
     "iopub.status.busy": "2024-10-10T10:17:14.834508Z",
     "iopub.status.idle": "2024-10-10T10:27:45.247381Z",
     "shell.execute_reply": "2024-10-10T10:27:45.246156Z"
    },
    "papermill": {
     "duration": 630.45007,
     "end_time": "2024-10-10T10:27:45.266883",
     "exception": false,
     "start_time": "2024-10-10T10:17:14.816813",
     "status": "completed"
    },
    "tags": []
   },
   "outputs": [
    {
     "name": "stderr",
     "output_type": "stream",
     "text": [
      "/opt/conda/lib/python3.10/site-packages/sklearn/feature_extraction/text.py:528: UserWarning: The parameter 'token_pattern' will not be used since 'tokenizer' is not None'\n",
      "  warnings.warn(\n",
      "/opt/conda/lib/python3.10/site-packages/sklearn/feature_extraction/text.py:409: UserWarning: Your stop_words may be inconsistent with your preprocessing. Tokenizing the stop words generated tokens [\"'d\", \"'s\", 'abov', 'ani', 'becaus', 'befor', 'could', 'doe', 'dure', 'might', 'must', \"n't\", 'need', 'onc', 'onli', 'ourselv', 'sha', 'themselv', 'veri', 'whi', 'wo', 'would', 'yourselv'] not in stop_words.\n",
      "  warnings.warn(\n"
     ]
    },
    {
     "name": "stdout",
     "output_type": "stream",
     "text": [
      "CPU times: user 10min 29s, sys: 753 ms, total: 10min 30s\n",
      "Wall time: 10min 30s\n"
     ]
    },
    {
     "data": {
      "text/html": [
       "<style>#sk-container-id-1 {color: black;background-color: white;}#sk-container-id-1 pre{padding: 0;}#sk-container-id-1 div.sk-toggleable {background-color: white;}#sk-container-id-1 label.sk-toggleable__label {cursor: pointer;display: block;width: 100%;margin-bottom: 0;padding: 0.3em;box-sizing: border-box;text-align: center;}#sk-container-id-1 label.sk-toggleable__label-arrow:before {content: \"▸\";float: left;margin-right: 0.25em;color: #696969;}#sk-container-id-1 label.sk-toggleable__label-arrow:hover:before {color: black;}#sk-container-id-1 div.sk-estimator:hover label.sk-toggleable__label-arrow:before {color: black;}#sk-container-id-1 div.sk-toggleable__content {max-height: 0;max-width: 0;overflow: hidden;text-align: left;background-color: #f0f8ff;}#sk-container-id-1 div.sk-toggleable__content pre {margin: 0.2em;color: black;border-radius: 0.25em;background-color: #f0f8ff;}#sk-container-id-1 input.sk-toggleable__control:checked~div.sk-toggleable__content {max-height: 200px;max-width: 100%;overflow: auto;}#sk-container-id-1 input.sk-toggleable__control:checked~label.sk-toggleable__label-arrow:before {content: \"▾\";}#sk-container-id-1 div.sk-estimator input.sk-toggleable__control:checked~label.sk-toggleable__label {background-color: #d4ebff;}#sk-container-id-1 div.sk-label input.sk-toggleable__control:checked~label.sk-toggleable__label {background-color: #d4ebff;}#sk-container-id-1 input.sk-hidden--visually {border: 0;clip: rect(1px 1px 1px 1px);clip: rect(1px, 1px, 1px, 1px);height: 1px;margin: -1px;overflow: hidden;padding: 0;position: absolute;width: 1px;}#sk-container-id-1 div.sk-estimator {font-family: monospace;background-color: #f0f8ff;border: 1px dotted black;border-radius: 0.25em;box-sizing: border-box;margin-bottom: 0.5em;}#sk-container-id-1 div.sk-estimator:hover {background-color: #d4ebff;}#sk-container-id-1 div.sk-parallel-item::after {content: \"\";width: 100%;border-bottom: 1px solid gray;flex-grow: 1;}#sk-container-id-1 div.sk-label:hover label.sk-toggleable__label {background-color: #d4ebff;}#sk-container-id-1 div.sk-serial::before {content: \"\";position: absolute;border-left: 1px solid gray;box-sizing: border-box;top: 0;bottom: 0;left: 50%;z-index: 0;}#sk-container-id-1 div.sk-serial {display: flex;flex-direction: column;align-items: center;background-color: white;padding-right: 0.2em;padding-left: 0.2em;position: relative;}#sk-container-id-1 div.sk-item {position: relative;z-index: 1;}#sk-container-id-1 div.sk-parallel {display: flex;align-items: stretch;justify-content: center;background-color: white;position: relative;}#sk-container-id-1 div.sk-item::before, #sk-container-id-1 div.sk-parallel-item::before {content: \"\";position: absolute;border-left: 1px solid gray;box-sizing: border-box;top: 0;bottom: 0;left: 50%;z-index: -1;}#sk-container-id-1 div.sk-parallel-item {display: flex;flex-direction: column;z-index: 1;position: relative;background-color: white;}#sk-container-id-1 div.sk-parallel-item:first-child::after {align-self: flex-end;width: 50%;}#sk-container-id-1 div.sk-parallel-item:last-child::after {align-self: flex-start;width: 50%;}#sk-container-id-1 div.sk-parallel-item:only-child::after {width: 0;}#sk-container-id-1 div.sk-dashed-wrapped {border: 1px dashed gray;margin: 0 0.4em 0.5em 0.4em;box-sizing: border-box;padding-bottom: 0.4em;background-color: white;}#sk-container-id-1 div.sk-label label {font-family: monospace;font-weight: bold;display: inline-block;line-height: 1.2em;}#sk-container-id-1 div.sk-label-container {text-align: center;}#sk-container-id-1 div.sk-container {/* jupyter's `normalize.less` sets `[hidden] { display: none; }` but bootstrap.min.css set `[hidden] { display: none !important; }` so we also need the `!important` here to be able to override the default hidden behavior on the sphinx rendered scikit-learn.org. See: https://github.com/scikit-learn/scikit-learn/issues/21755 */display: inline-block !important;position: relative;}#sk-container-id-1 div.sk-text-repr-fallback {display: none;}</style><div id=\"sk-container-id-1\" class=\"sk-top-container\"><div class=\"sk-text-repr-fallback\"><pre>TfidfVectorizer(max_features=1024,\n",
       "                stop_words=[&#x27;i&#x27;, &#x27;me&#x27;, &#x27;my&#x27;, &#x27;myself&#x27;, &#x27;we&#x27;, &#x27;our&#x27;, &#x27;ours&#x27;,\n",
       "                            &#x27;ourselves&#x27;, &#x27;you&#x27;, &quot;you&#x27;re&quot;, &quot;you&#x27;ve&quot;, &quot;you&#x27;ll&quot;,\n",
       "                            &quot;you&#x27;d&quot;, &#x27;your&#x27;, &#x27;yours&#x27;, &#x27;yourself&#x27;, &#x27;yourselves&#x27;,\n",
       "                            &#x27;he&#x27;, &#x27;him&#x27;, &#x27;his&#x27;, &#x27;himself&#x27;, &#x27;she&#x27;, &quot;she&#x27;s&quot;,\n",
       "                            &#x27;her&#x27;, &#x27;hers&#x27;, &#x27;herself&#x27;, &#x27;it&#x27;, &quot;it&#x27;s&quot;, &#x27;its&#x27;,\n",
       "                            &#x27;itself&#x27;, ...],\n",
       "                tokenizer=&lt;function tokenize at 0x7cbc507825f0&gt;)</pre><b>In a Jupyter environment, please rerun this cell to show the HTML representation or trust the notebook. <br />On GitHub, the HTML representation is unable to render, please try loading this page with nbviewer.org.</b></div><div class=\"sk-container\" hidden><div class=\"sk-item\"><div class=\"sk-estimator sk-toggleable\"><input class=\"sk-toggleable__control sk-hidden--visually\" id=\"sk-estimator-id-1\" type=\"checkbox\" checked><label for=\"sk-estimator-id-1\" class=\"sk-toggleable__label sk-toggleable__label-arrow\">TfidfVectorizer</label><div class=\"sk-toggleable__content\"><pre>TfidfVectorizer(max_features=1024,\n",
       "                stop_words=[&#x27;i&#x27;, &#x27;me&#x27;, &#x27;my&#x27;, &#x27;myself&#x27;, &#x27;we&#x27;, &#x27;our&#x27;, &#x27;ours&#x27;,\n",
       "                            &#x27;ourselves&#x27;, &#x27;you&#x27;, &quot;you&#x27;re&quot;, &quot;you&#x27;ve&quot;, &quot;you&#x27;ll&quot;,\n",
       "                            &quot;you&#x27;d&quot;, &#x27;your&#x27;, &#x27;yours&#x27;, &#x27;yourself&#x27;, &#x27;yourselves&#x27;,\n",
       "                            &#x27;he&#x27;, &#x27;him&#x27;, &#x27;his&#x27;, &#x27;himself&#x27;, &#x27;she&#x27;, &quot;she&#x27;s&quot;,\n",
       "                            &#x27;her&#x27;, &#x27;hers&#x27;, &#x27;herself&#x27;, &#x27;it&#x27;, &quot;it&#x27;s&quot;, &#x27;its&#x27;,\n",
       "                            &#x27;itself&#x27;, ...],\n",
       "                tokenizer=&lt;function tokenize at 0x7cbc507825f0&gt;)</pre></div></div></div></div></div>"
      ],
      "text/plain": [
       "TfidfVectorizer(max_features=1024,\n",
       "                stop_words=['i', 'me', 'my', 'myself', 'we', 'our', 'ours',\n",
       "                            'ourselves', 'you', \"you're\", \"you've\", \"you'll\",\n",
       "                            \"you'd\", 'your', 'yours', 'yourself', 'yourselves',\n",
       "                            'he', 'him', 'his', 'himself', 'she', \"she's\",\n",
       "                            'her', 'hers', 'herself', 'it', \"it's\", 'its',\n",
       "                            'itself', ...],\n",
       "                tokenizer=<function tokenize at 0x7cbc507825f0>)"
      ]
     },
     "execution_count": 18,
     "metadata": {},
     "output_type": "execute_result"
    }
   ],
   "source": [
    "%%time\n",
    "vectorizer.fit(sample_df.question_text)"
   ]
  },
  {
   "cell_type": "code",
   "execution_count": 19,
   "id": "b159ffc6",
   "metadata": {
    "execution": {
     "iopub.execute_input": "2024-10-10T10:27:45.302511Z",
     "iopub.status.busy": "2024-10-10T10:27:45.302004Z",
     "iopub.status.idle": "2024-10-10T10:27:45.311948Z",
     "shell.execute_reply": "2024-10-10T10:27:45.310720Z"
    },
    "papermill": {
     "duration": 0.030988,
     "end_time": "2024-10-10T10:27:45.314614",
     "exception": false,
     "start_time": "2024-10-10T10:27:45.283626",
     "status": "completed"
    },
    "tags": []
   },
   "outputs": [
    {
     "data": {
      "text/plain": [
       "array(['!', '$', '%', '&', \"'\", \"''\", \"'m\", \"'s\", '(', ')', ',', '-', '.',\n",
       "       '1', '10', '100', '12', '12th', '15', '2', '20', '2017', '2018',\n",
       "       '3', '30', '4', '5', '6', '7', '8', ':', '?', '[', ']', '``',\n",
       "       'abl', 'abroad', 'abus', 'accept', 'access', 'accomplish',\n",
       "       'accord', 'account', 'achiev', 'acid', 'act', 'action', 'activ',\n",
       "       'actor', 'actual'], dtype=object)"
      ]
     },
     "execution_count": 19,
     "metadata": {},
     "output_type": "execute_result"
    }
   ],
   "source": [
    "vectorizer.get_feature_names_out()[:50]"
   ]
  },
  {
   "cell_type": "markdown",
   "id": "9aa5e690",
   "metadata": {
    "papermill": {
     "duration": 0.01668,
     "end_time": "2024-10-10T10:27:45.348476",
     "exception": false,
     "start_time": "2024-10-10T10:27:45.331796",
     "status": "completed"
    },
    "tags": []
   },
   "source": [
    "## Transforming questions to vectors"
   ]
  },
  {
   "cell_type": "code",
   "execution_count": 20,
   "id": "f1430074",
   "metadata": {
    "execution": {
     "iopub.execute_input": "2024-10-10T10:27:45.384285Z",
     "iopub.status.busy": "2024-10-10T10:27:45.383797Z",
     "iopub.status.idle": "2024-10-10T10:38:18.755650Z",
     "shell.execute_reply": "2024-10-10T10:38:18.754401Z"
    },
    "papermill": {
     "duration": 633.409951,
     "end_time": "2024-10-10T10:38:18.775281",
     "exception": false,
     "start_time": "2024-10-10T10:27:45.365330",
     "status": "completed"
    },
    "tags": []
   },
   "outputs": [
    {
     "name": "stdout",
     "output_type": "stream",
     "text": [
      "CPU times: user 10min 32s, sys: 428 ms, total: 10min 33s\n",
      "Wall time: 10min 33s\n"
     ]
    }
   ],
   "source": [
    "%%time\n",
    "input = vectorizer.transform(sample_df['question_text'])"
   ]
  },
  {
   "cell_type": "code",
   "execution_count": 21,
   "id": "fde57b22",
   "metadata": {
    "execution": {
     "iopub.execute_input": "2024-10-10T10:38:18.811410Z",
     "iopub.status.busy": "2024-10-10T10:38:18.810957Z",
     "iopub.status.idle": "2024-10-10T10:41:20.466180Z",
     "shell.execute_reply": "2024-10-10T10:41:20.464747Z"
    },
    "papermill": {
     "duration": 181.693749,
     "end_time": "2024-10-10T10:41:20.486103",
     "exception": false,
     "start_time": "2024-10-10T10:38:18.792354",
     "status": "completed"
    },
    "tags": []
   },
   "outputs": [
    {
     "name": "stdout",
     "output_type": "stream",
     "text": [
      "CPU times: user 3min 1s, sys: 53 ms, total: 3min 1s\n",
      "Wall time: 3min 1s\n"
     ]
    }
   ],
   "source": [
    "%%time\n",
    "test_input = vectorizer.transform(test_df['question_text'])"
   ]
  },
  {
   "cell_type": "markdown",
   "id": "c1da53c5",
   "metadata": {
    "papermill": {
     "duration": 0.017225,
     "end_time": "2024-10-10T10:41:20.520666",
     "exception": false,
     "start_time": "2024-10-10T10:41:20.503441",
     "status": "completed"
    },
    "tags": []
   },
   "source": [
    "# Preparation for training"
   ]
  },
  {
   "cell_type": "code",
   "execution_count": 22,
   "id": "8ac2568f",
   "metadata": {
    "execution": {
     "iopub.execute_input": "2024-10-10T10:41:20.558017Z",
     "iopub.status.busy": "2024-10-10T10:41:20.556808Z",
     "iopub.status.idle": "2024-10-10T10:41:20.840985Z",
     "shell.execute_reply": "2024-10-10T10:41:20.839600Z"
    },
    "papermill": {
     "duration": 0.305815,
     "end_time": "2024-10-10T10:41:20.843926",
     "exception": false,
     "start_time": "2024-10-10T10:41:20.538111",
     "status": "completed"
    },
    "tags": []
   },
   "outputs": [],
   "source": [
    "train_df, val_df, train_target, val_target= train_test_split(input, sample_df['target'], test_size=0.2)"
   ]
  },
  {
   "cell_type": "markdown",
   "id": "c0c706db",
   "metadata": {
    "papermill": {
     "duration": 0.017018,
     "end_time": "2024-10-10T10:41:20.878464",
     "exception": false,
     "start_time": "2024-10-10T10:41:20.861446",
     "status": "completed"
    },
    "tags": []
   },
   "source": [
    "## Converting to Pytorch Tensor"
   ]
  },
  {
   "cell_type": "code",
   "execution_count": 23,
   "id": "4e67fc1c",
   "metadata": {
    "execution": {
     "iopub.execute_input": "2024-10-10T10:41:20.915220Z",
     "iopub.status.busy": "2024-10-10T10:41:20.914373Z",
     "iopub.status.idle": "2024-10-10T10:41:45.612616Z",
     "shell.execute_reply": "2024-10-10T10:41:45.611210Z"
    },
    "papermill": {
     "duration": 24.719814,
     "end_time": "2024-10-10T10:41:45.615499",
     "exception": false,
     "start_time": "2024-10-10T10:41:20.895685",
     "status": "completed"
    },
    "tags": []
   },
   "outputs": [],
   "source": [
    "train_input_tensor= torch.tensor(train_df.toarray()).float()\n",
    "val_input_tensor= torch.tensor(val_df.toarray()).float()"
   ]
  },
  {
   "cell_type": "code",
   "execution_count": 24,
   "id": "91386098",
   "metadata": {
    "execution": {
     "iopub.execute_input": "2024-10-10T10:41:45.652627Z",
     "iopub.status.busy": "2024-10-10T10:41:45.652184Z",
     "iopub.status.idle": "2024-10-10T10:41:45.660300Z",
     "shell.execute_reply": "2024-10-10T10:41:45.659141Z"
    },
    "papermill": {
     "duration": 0.029855,
     "end_time": "2024-10-10T10:41:45.662845",
     "exception": false,
     "start_time": "2024-10-10T10:41:45.632990",
     "status": "completed"
    },
    "tags": []
   },
   "outputs": [],
   "source": [
    "train_target_tensor= torch.tensor(train_target.values).float()\n",
    "val_target_tensor=torch.tensor(val_target.values).float()"
   ]
  },
  {
   "cell_type": "code",
   "execution_count": 25,
   "id": "6cc9cd81",
   "metadata": {
    "execution": {
     "iopub.execute_input": "2024-10-10T10:41:45.699914Z",
     "iopub.status.busy": "2024-10-10T10:41:45.699430Z",
     "iopub.status.idle": "2024-10-10T10:41:51.850127Z",
     "shell.execute_reply": "2024-10-10T10:41:51.848968Z"
    },
    "papermill": {
     "duration": 6.172431,
     "end_time": "2024-10-10T10:41:51.852963",
     "exception": false,
     "start_time": "2024-10-10T10:41:45.680532",
     "status": "completed"
    },
    "tags": []
   },
   "outputs": [],
   "source": [
    "test_input_tensor= torch.tensor(test_input.toarray()).float()"
   ]
  },
  {
   "cell_type": "markdown",
   "id": "b746afdc",
   "metadata": {
    "papermill": {
     "duration": 0.01717,
     "end_time": "2024-10-10T10:41:51.887686",
     "exception": false,
     "start_time": "2024-10-10T10:41:51.870516",
     "status": "completed"
    },
    "tags": []
   },
   "source": [
    "## DataLoader"
   ]
  },
  {
   "cell_type": "code",
   "execution_count": 26,
   "id": "178010fe",
   "metadata": {
    "execution": {
     "iopub.execute_input": "2024-10-10T10:41:51.924836Z",
     "iopub.status.busy": "2024-10-10T10:41:51.923815Z",
     "iopub.status.idle": "2024-10-10T10:41:51.931034Z",
     "shell.execute_reply": "2024-10-10T10:41:51.929952Z"
    },
    "papermill": {
     "duration": 0.028709,
     "end_time": "2024-10-10T10:41:51.933624",
     "exception": false,
     "start_time": "2024-10-10T10:41:51.904915",
     "status": "completed"
    },
    "tags": []
   },
   "outputs": [
    {
     "name": "stdout",
     "output_type": "stream",
     "text": [
      "<class 'torch.Tensor'>\n",
      "<class 'torch.Tensor'>\n",
      "<class 'torch.Tensor'>\n",
      "<class 'torch.Tensor'>\n",
      "<class 'torch.Tensor'>\n"
     ]
    }
   ],
   "source": [
    "print(type(train_input_tensor))\n",
    "print(type(train_target_tensor))\n",
    "print(type(val_input_tensor))\n",
    "print(type(val_target_tensor))\n",
    "print(type(test_input_tensor))"
   ]
  },
  {
   "cell_type": "code",
   "execution_count": 27,
   "id": "1135c8c6",
   "metadata": {
    "execution": {
     "iopub.execute_input": "2024-10-10T10:41:51.970591Z",
     "iopub.status.busy": "2024-10-10T10:41:51.970133Z",
     "iopub.status.idle": "2024-10-10T10:41:51.977342Z",
     "shell.execute_reply": "2024-10-10T10:41:51.976221Z"
    },
    "papermill": {
     "duration": 0.028582,
     "end_time": "2024-10-10T10:41:51.979747",
     "exception": false,
     "start_time": "2024-10-10T10:41:51.951165",
     "status": "completed"
    },
    "tags": []
   },
   "outputs": [],
   "source": [
    "train_ds= TensorDataset(train_input_tensor, train_target_tensor)\n",
    "val_ds= TensorDataset(val_input_tensor, val_target_tensor)\n",
    "test_ds= TensorDataset(test_input_tensor)"
   ]
  },
  {
   "cell_type": "code",
   "execution_count": 28,
   "id": "ab854868",
   "metadata": {
    "execution": {
     "iopub.execute_input": "2024-10-10T10:41:52.017459Z",
     "iopub.status.busy": "2024-10-10T10:41:52.017047Z",
     "iopub.status.idle": "2024-10-10T10:41:52.023845Z",
     "shell.execute_reply": "2024-10-10T10:41:52.022623Z"
    },
    "papermill": {
     "duration": 0.028738,
     "end_time": "2024-10-10T10:41:52.026384",
     "exception": false,
     "start_time": "2024-10-10T10:41:51.997646",
     "status": "completed"
    },
    "tags": []
   },
   "outputs": [],
   "source": [
    "train_dl= DataLoader(train_ds, batch_size=128, shuffle=True)\n",
    "val_dl= DataLoader(val_ds, batch_size=128)\n",
    "test_dl= DataLoader(test_ds, batch_size=128)"
   ]
  },
  {
   "cell_type": "markdown",
   "id": "fbd23ba1",
   "metadata": {
    "papermill": {
     "duration": 0.018038,
     "end_time": "2024-10-10T10:41:52.062695",
     "exception": false,
     "start_time": "2024-10-10T10:41:52.044657",
     "status": "completed"
    },
    "tags": []
   },
   "source": [
    "# Model"
   ]
  },
  {
   "cell_type": "code",
   "execution_count": 29,
   "id": "df7f162d",
   "metadata": {
    "execution": {
     "iopub.execute_input": "2024-10-10T10:41:52.100796Z",
     "iopub.status.busy": "2024-10-10T10:41:52.100324Z",
     "iopub.status.idle": "2024-10-10T10:41:52.110077Z",
     "shell.execute_reply": "2024-10-10T10:41:52.108973Z"
    },
    "papermill": {
     "duration": 0.031758,
     "end_time": "2024-10-10T10:41:52.112631",
     "exception": false,
     "start_time": "2024-10-10T10:41:52.080873",
     "status": "completed"
    },
    "tags": []
   },
   "outputs": [],
   "source": [
    "class QuoraNet(nn.Module):\n",
    "    def __init__(self):\n",
    "        super(QuoraNet, self).__init__()\n",
    "        self.layer1=nn.Linear(1024, 512)\n",
    "        self.layer2=nn.Linear(512, 256)\n",
    "        self.layer3=nn.Linear(256, 128)\n",
    "        self.layer4=nn.Linear(128, 32)\n",
    "        self.layer5=nn.Linear(32, 1)\n",
    "\n",
    "    def forward(self, inputs):\n",
    "        out=self.layer1(inputs)\n",
    "        out= F.relu(out)\n",
    "        out=self.layer2(out)\n",
    "        out= F.relu(out)\n",
    "        out=self.layer3(out)\n",
    "        out= F.relu(out)\n",
    "        out=self.layer4(out)\n",
    "        out= F.relu(out)\n",
    "        out=self.layer5(out)\n",
    "        return out\n"
   ]
  },
  {
   "cell_type": "code",
   "execution_count": 30,
   "id": "fe05da3c",
   "metadata": {
    "execution": {
     "iopub.execute_input": "2024-10-10T10:41:52.152013Z",
     "iopub.status.busy": "2024-10-10T10:41:52.151518Z",
     "iopub.status.idle": "2024-10-10T10:41:52.177909Z",
     "shell.execute_reply": "2024-10-10T10:41:52.176764Z"
    },
    "papermill": {
     "duration": 0.048731,
     "end_time": "2024-10-10T10:41:52.180698",
     "exception": false,
     "start_time": "2024-10-10T10:41:52.131967",
     "status": "completed"
    },
    "tags": []
   },
   "outputs": [],
   "source": [
    "model=QuoraNet()"
   ]
  },
  {
   "cell_type": "code",
   "execution_count": 31,
   "id": "6443abed",
   "metadata": {
    "execution": {
     "iopub.execute_input": "2024-10-10T10:41:52.219200Z",
     "iopub.status.busy": "2024-10-10T10:41:52.217925Z",
     "iopub.status.idle": "2024-10-10T10:41:52.476692Z",
     "shell.execute_reply": "2024-10-10T10:41:52.475438Z"
    },
    "papermill": {
     "duration": 0.280969,
     "end_time": "2024-10-10T10:41:52.479522",
     "exception": false,
     "start_time": "2024-10-10T10:41:52.198553",
     "status": "completed"
    },
    "tags": []
   },
   "outputs": [
    {
     "name": "stdout",
     "output_type": "stream",
     "text": [
      "inputs.shape: torch.Size([128, 1024])\n",
      "targets.shape: torch.Size([128])\n",
      "batch_out.shape:  torch.Size([128, 1])\n",
      "probs: tensor([0.5131, 0.5134, 0.5132, 0.5132, 0.5133, 0.5130, 0.5130, 0.5132, 0.5130,\n",
      "        0.5132], grad_fn=<SliceBackward0>)\n",
      "preds:  tensor([1, 1, 1, 1, 1, 1, 1, 1, 1, 1], dtype=torch.int32)\n",
      "targets:  tensor([0., 0., 0., 0., 0., 0., 0., 0., 0., 1.])\n",
      "outputs tensor([1, 1, 1, 1, 1, 1, 1, 1, 1, 1, 1, 1, 1, 1, 1, 1, 1, 1, 1, 1, 1, 1, 1, 1,\n",
      "        1, 1, 1, 1, 1, 1, 1, 1, 1, 1, 1, 1, 1, 1, 1, 1, 1, 1, 1, 1, 1, 1, 1, 1,\n",
      "        1, 1, 1, 1, 1, 1, 1, 1, 1, 1, 1, 1, 1, 1, 1, 1, 1, 1, 1, 1, 1, 1, 1, 1,\n",
      "        1, 1, 1, 1, 1, 1, 1, 1, 1, 1, 1, 1, 1, 1, 1, 1, 1, 1, 1, 1, 1, 1, 1, 1,\n",
      "        1, 1, 1, 1, 1, 1, 1, 1, 1, 1, 1, 1, 1, 1, 1, 1, 1, 1, 1, 1, 1, 1, 1, 1,\n",
      "        1, 1, 1, 1, 1, 1, 1, 1], dtype=torch.int32)\n",
      "accuracy 0.0546875\n",
      "f1_score 0.1037037037037037\n",
      "loss:  tensor(94.5312)\n"
     ]
    }
   ],
   "source": [
    "for batch in train_dl:\n",
    "    batch_inputs, batch_targets = batch\n",
    "    print('inputs.shape:', batch_inputs.shape)\n",
    "    print('targets.shape:', batch_targets.shape)\n",
    "    \n",
    "    batch_out = model(batch_inputs)\n",
    "    print(\"batch_out.shape: \", batch_out.shape)\n",
    "\n",
    "\n",
    "    #probability conversion\n",
    "    probs = torch.sigmoid(batch_out[:,0])\n",
    "    print(\"probs:\", probs[:10])\n",
    "\n",
    "    preds = (probs >= 0.5).int()\n",
    "    print(\"preds: \", preds[:10])\n",
    "    print(\"targets: \", batch_targets[:10])\n",
    "    \n",
    "    print('outputs', preds)\n",
    "    print('accuracy', accuracy_score(batch_targets, preds))\n",
    "    print('f1_score', f1_score(batch_targets, preds))\n",
    "\n",
    "    #loss\n",
    "    print(\"loss: \", F.binary_cross_entropy(preds.float(), batch_targets))\n",
    "    break"
   ]
  },
  {
   "cell_type": "code",
   "execution_count": 32,
   "id": "47913022",
   "metadata": {
    "execution": {
     "iopub.execute_input": "2024-10-10T10:41:52.518872Z",
     "iopub.status.busy": "2024-10-10T10:41:52.517832Z",
     "iopub.status.idle": "2024-10-10T10:41:52.526825Z",
     "shell.execute_reply": "2024-10-10T10:41:52.525660Z"
    },
    "papermill": {
     "duration": 0.031127,
     "end_time": "2024-10-10T10:41:52.529316",
     "exception": false,
     "start_time": "2024-10-10T10:41:52.498189",
     "status": "completed"
    },
    "tags": []
   },
   "outputs": [],
   "source": [
    "def evaluate(model, dl):\n",
    "    losses, accs, f1s = [], [], []\n",
    "    for batch in dl:\n",
    "        inputs, targets = batch\n",
    "        out = model(inputs)\n",
    "        \n",
    "        probs = torch.sigmoid(out[:,0])\n",
    "        loss = F.binary_cross_entropy(probs, targets.float(), weight=torch.tensor(20.))\n",
    "        losses.append(loss.item())\n",
    "\n",
    "        preds = (probs > 0.5).int()\n",
    "        acc = accuracy_score(targets, preds)\n",
    "        f1 = f1_score(targets, preds)\n",
    "        \n",
    "        accs.append(acc)\n",
    "        f1s.append(f1)\n",
    "\n",
    "    return np.mean(losses), np.mean(accs), np.mean(f1s)"
   ]
  },
  {
   "cell_type": "code",
   "execution_count": 33,
   "id": "a0b259bc",
   "metadata": {
    "execution": {
     "iopub.execute_input": "2024-10-10T10:41:52.567758Z",
     "iopub.status.busy": "2024-10-10T10:41:52.567276Z",
     "iopub.status.idle": "2024-10-10T10:43:02.365255Z",
     "shell.execute_reply": "2024-10-10T10:43:02.363984Z"
    },
    "papermill": {
     "duration": 69.838673,
     "end_time": "2024-10-10T10:43:02.386276",
     "exception": false,
     "start_time": "2024-10-10T10:41:52.547603",
     "status": "completed"
    },
    "tags": []
   },
   "outputs": [
    {
     "data": {
      "text/plain": [
       "((14.331679597431279, 0.06183109535766781, 0.1157140633592155),\n",
       " (14.331484556782193, 0.062004430017965045, 0.11606698007523282))"
      ]
     },
     "execution_count": 33,
     "metadata": {},
     "output_type": "execute_result"
    }
   ],
   "source": [
    "evaluate(model, train_dl), evaluate(model, val_dl)"
   ]
  },
  {
   "cell_type": "code",
   "execution_count": 34,
   "id": "09f50aa6",
   "metadata": {
    "execution": {
     "iopub.execute_input": "2024-10-10T10:43:02.427524Z",
     "iopub.status.busy": "2024-10-10T10:43:02.427068Z",
     "iopub.status.idle": "2024-10-10T10:43:02.437249Z",
     "shell.execute_reply": "2024-10-10T10:43:02.436103Z"
    },
    "papermill": {
     "duration": 0.035158,
     "end_time": "2024-10-10T10:43:02.439842",
     "exception": false,
     "start_time": "2024-10-10T10:43:02.404684",
     "status": "completed"
    },
    "tags": []
   },
   "outputs": [],
   "source": [
    "def fit(epochs, lr, model, train_loader, val_loader):\n",
    "    optimizer = torch.optim.Adam(model.parameters(), lr, weight_decay=1e-5)\n",
    "    history = [] # for recording epoch-wise results\n",
    "    \n",
    "    for epoch in range(epochs):\n",
    "        \n",
    "        # Training Phase \n",
    "        for batch in train_loader:\n",
    "            inputs, targets = batch\n",
    "            out = model(inputs)\n",
    "            probs = torch.sigmoid(out[:,0])\n",
    "            loss = F.binary_cross_entropy(probs, \n",
    "                                          targets.float(), \n",
    "                                          weight=torch.tensor(20.))\n",
    "            loss.backward()\n",
    "            optimizer.step()\n",
    "            optimizer.zero_grad()\n",
    "        \n",
    "        # Validation phase\n",
    "        result = evaluate(model, val_loader)\n",
    "        loss, acc, f1 = result\n",
    "        print('Epoch: {}; Loss: {:.4f}; Accuracy: {:.4f}; F1 Score: {:.4f}'.format(\n",
    "            epoch, loss, acc, f1))\n",
    "        history.append(result)\n",
    "\n",
    "    return history"
   ]
  },
  {
   "cell_type": "code",
   "execution_count": 35,
   "id": "c75e905d",
   "metadata": {
    "execution": {
     "iopub.execute_input": "2024-10-10T10:43:02.479183Z",
     "iopub.status.busy": "2024-10-10T10:43:02.478687Z",
     "iopub.status.idle": "2024-10-10T10:43:02.492233Z",
     "shell.execute_reply": "2024-10-10T10:43:02.490630Z"
    },
    "papermill": {
     "duration": 0.036855,
     "end_time": "2024-10-10T10:43:02.495216",
     "exception": false,
     "start_time": "2024-10-10T10:43:02.458361",
     "status": "completed"
    },
    "tags": []
   },
   "outputs": [],
   "source": [
    "model=QuoraNet()"
   ]
  },
  {
   "cell_type": "code",
   "execution_count": 36,
   "id": "c045a0bf",
   "metadata": {
    "execution": {
     "iopub.execute_input": "2024-10-10T10:43:02.535006Z",
     "iopub.status.busy": "2024-10-10T10:43:02.534497Z",
     "iopub.status.idle": "2024-10-10T10:43:16.286030Z",
     "shell.execute_reply": "2024-10-10T10:43:16.284628Z"
    },
    "papermill": {
     "duration": 13.774549,
     "end_time": "2024-10-10T10:43:16.289054",
     "exception": false,
     "start_time": "2024-10-10T10:43:02.514505",
     "status": "completed"
    },
    "tags": []
   },
   "outputs": [],
   "source": [
    "history = [evaluate(model, val_dl)]"
   ]
  },
  {
   "cell_type": "code",
   "execution_count": 37,
   "id": "aebdff73",
   "metadata": {
    "execution": {
     "iopub.execute_input": "2024-10-10T10:43:16.330447Z",
     "iopub.status.busy": "2024-10-10T10:43:16.328870Z",
     "iopub.status.idle": "2024-10-10T11:24:00.364496Z",
     "shell.execute_reply": "2024-10-10T11:24:00.362517Z"
    },
    "papermill": {
     "duration": 2444.0786,
     "end_time": "2024-10-10T11:24:00.387106",
     "exception": false,
     "start_time": "2024-10-10T10:43:16.308506",
     "status": "completed"
    },
    "tags": []
   },
   "outputs": [
    {
     "name": "stdout",
     "output_type": "stream",
     "text": [
      "Epoch: 0; Loss: 2.8096; Accuracy: 0.9492; F1 Score: 0.4490\n",
      "Epoch: 1; Loss: 2.8134; Accuracy: 0.9489; F1 Score: 0.4896\n",
      "Epoch: 2; Loss: 2.7949; Accuracy: 0.9483; F1 Score: 0.3770\n",
      "Epoch: 3; Loss: 2.7794; Accuracy: 0.9497; F1 Score: 0.4943\n",
      "Epoch: 4; Loss: 2.7866; Accuracy: 0.9494; F1 Score: 0.4853\n",
      "Epoch: 5; Loss: 2.7749; Accuracy: 0.9494; F1 Score: 0.4867\n",
      "Epoch: 6; Loss: 2.8067; Accuracy: 0.9473; F1 Score: 0.3189\n",
      "Epoch: 7; Loss: 2.7806; Accuracy: 0.9495; F1 Score: 0.4510\n",
      "Epoch: 8; Loss: 2.7877; Accuracy: 0.9494; F1 Score: 0.4254\n",
      "Epoch: 9; Loss: 2.7923; Accuracy: 0.9484; F1 Score: 0.5035\n"
     ]
    }
   ],
   "source": [
    "history+=fit(10, 0.01, model, train_dl, val_dl)"
   ]
  },
  {
   "cell_type": "code",
   "execution_count": 38,
   "id": "f8d79313",
   "metadata": {
    "execution": {
     "iopub.execute_input": "2024-10-10T11:24:00.430381Z",
     "iopub.status.busy": "2024-10-10T11:24:00.429095Z",
     "iopub.status.idle": "2024-10-10T11:47:18.435611Z",
     "shell.execute_reply": "2024-10-10T11:47:18.434211Z"
    },
    "papermill": {
     "duration": 1398.052475,
     "end_time": "2024-10-10T11:47:18.459247",
     "exception": false,
     "start_time": "2024-10-10T11:24:00.406772",
     "status": "completed"
    },
    "tags": []
   },
   "outputs": [
    {
     "name": "stdout",
     "output_type": "stream",
     "text": [
      "Epoch: 0; Loss: 2.7968; Accuracy: 0.9494; F1 Score: 0.4739\n",
      "Epoch: 1; Loss: 2.8232; Accuracy: 0.9489; F1 Score: 0.4840\n",
      "Epoch: 2; Loss: 2.8530; Accuracy: 0.9483; F1 Score: 0.4858\n",
      "Epoch: 3; Loss: 2.9212; Accuracy: 0.9478; F1 Score: 0.4789\n",
      "Epoch: 4; Loss: 3.0665; Accuracy: 0.9459; F1 Score: 0.4735\n"
     ]
    }
   ],
   "source": [
    "history+=fit(5, 0.001, model, train_dl, val_dl)"
   ]
  },
  {
   "cell_type": "code",
   "execution_count": 39,
   "id": "cd3a6aa6",
   "metadata": {
    "execution": {
     "iopub.execute_input": "2024-10-10T11:47:18.502567Z",
     "iopub.status.busy": "2024-10-10T11:47:18.501263Z",
     "iopub.status.idle": "2024-10-10T11:47:19.343408Z",
     "shell.execute_reply": "2024-10-10T11:47:19.342035Z"
    },
    "papermill": {
     "duration": 0.867117,
     "end_time": "2024-10-10T11:47:19.346321",
     "exception": false,
     "start_time": "2024-10-10T11:47:18.479204",
     "status": "completed"
    },
    "tags": []
   },
   "outputs": [
    {
     "name": "stderr",
     "output_type": "stream",
     "text": [
      "/opt/conda/lib/python3.10/site-packages/seaborn/_oldcore.py:1119: FutureWarning: use_inf_as_na option is deprecated and will be removed in a future version. Convert inf values to NaN before operating instead.\n",
      "  with pd.option_context('mode.use_inf_as_na', True):\n",
      "/opt/conda/lib/python3.10/site-packages/seaborn/_oldcore.py:1119: FutureWarning: use_inf_as_na option is deprecated and will be removed in a future version. Convert inf values to NaN before operating instead.\n",
      "  with pd.option_context('mode.use_inf_as_na', True):\n",
      "/opt/conda/lib/python3.10/site-packages/seaborn/_oldcore.py:1119: FutureWarning: use_inf_as_na option is deprecated and will be removed in a future version. Convert inf values to NaN before operating instead.\n",
      "  with pd.option_context('mode.use_inf_as_na', True):\n",
      "/opt/conda/lib/python3.10/site-packages/seaborn/_oldcore.py:1119: FutureWarning: use_inf_as_na option is deprecated and will be removed in a future version. Convert inf values to NaN before operating instead.\n",
      "  with pd.option_context('mode.use_inf_as_na', True):\n",
      "/opt/conda/lib/python3.10/site-packages/seaborn/_oldcore.py:1119: FutureWarning: use_inf_as_na option is deprecated and will be removed in a future version. Convert inf values to NaN before operating instead.\n",
      "  with pd.option_context('mode.use_inf_as_na', True):\n",
      "/opt/conda/lib/python3.10/site-packages/seaborn/_oldcore.py:1119: FutureWarning: use_inf_as_na option is deprecated and will be removed in a future version. Convert inf values to NaN before operating instead.\n",
      "  with pd.option_context('mode.use_inf_as_na', True):\n"
     ]
    },
    {
     "data": {
      "image/png": "[encoded data removed]",
      "text/plain": [
       "<Figure size 2200x600 with 3 Axes>"
      ]
     },
     "metadata": {},
     "output_type": "display_data"
    }
   ],
   "source": [
    "losses = [item[0] for item in history]\n",
    "acc=[item[1] for item in history]\n",
    "f1s = [item[2] for item in history]\n",
    "\n",
    "fig, axes = plt.subplots(nrows=1, ncols=3, figsize=(22, 6))\n",
    "fig.suptitle('Losses, Accuracy and F1 Score Vs Epochs')\n",
    "\n",
    "sns.lineplot(losses, ax=axes[0])\n",
    "axes[0].set_title('Losses')\n",
    "sns.lineplot(acc, ax=axes[1])\n",
    "axes[1].set_title('Accuracy')\n",
    "sns.lineplot(f1s, ax=axes[2])\n",
    "axes[2].set_title('F1 Score')\n",
    "plt.show()"
   ]
  },
  {
   "cell_type": "markdown",
   "id": "a202cb02",
   "metadata": {
    "papermill": {
     "duration": 0.021814,
     "end_time": "2024-10-10T11:47:19.390387",
     "exception": false,
     "start_time": "2024-10-10T11:47:19.368573",
     "status": "completed"
    },
    "tags": []
   },
   "source": [
    "# Predictions on Kaggle Data"
   ]
  },
  {
   "cell_type": "code",
   "execution_count": 40,
   "id": "dd26be25",
   "metadata": {
    "execution": {
     "iopub.execute_input": "2024-10-10T11:47:19.436219Z",
     "iopub.status.busy": "2024-10-10T11:47:19.435197Z",
     "iopub.status.idle": "2024-10-10T11:47:27.019049Z",
     "shell.execute_reply": "2024-10-10T11:47:27.017639Z"
    },
    "papermill": {
     "duration": 7.610058,
     "end_time": "2024-10-10T11:47:27.022162",
     "exception": false,
     "start_time": "2024-10-10T11:47:19.412104",
     "status": "completed"
    },
    "tags": []
   },
   "outputs": [],
   "source": [
    "test_tensors = torch.tensor(test_input.toarray()).float()"
   ]
  },
  {
   "cell_type": "code",
   "execution_count": 41,
   "id": "2c535e17",
   "metadata": {
    "execution": {
     "iopub.execute_input": "2024-10-10T11:47:27.067773Z",
     "iopub.status.busy": "2024-10-10T11:47:27.067315Z",
     "iopub.status.idle": "2024-10-10T11:47:27.074077Z",
     "shell.execute_reply": "2024-10-10T11:47:27.072762Z"
    },
    "papermill": {
     "duration": 0.032325,
     "end_time": "2024-10-10T11:47:27.076636",
     "exception": false,
     "start_time": "2024-10-10T11:47:27.044311",
     "status": "completed"
    },
    "tags": []
   },
   "outputs": [],
   "source": [
    "test_ds = TensorDataset(test_tensors)\n",
    "test_dl = DataLoader(test_ds, batch_size=128)"
   ]
  },
  {
   "cell_type": "code",
   "execution_count": 42,
   "id": "f03d4bd5",
   "metadata": {
    "execution": {
     "iopub.execute_input": "2024-10-10T11:47:27.121979Z",
     "iopub.status.busy": "2024-10-10T11:47:27.121422Z",
     "iopub.status.idle": "2024-10-10T11:47:27.128728Z",
     "shell.execute_reply": "2024-10-10T11:47:27.127589Z"
    },
    "papermill": {
     "duration": 0.032931,
     "end_time": "2024-10-10T11:47:27.131404",
     "exception": false,
     "start_time": "2024-10-10T11:47:27.098473",
     "status": "completed"
    },
    "tags": []
   },
   "outputs": [],
   "source": [
    "def predict(model, dl):\n",
    "    all_preds = []\n",
    "    for batch in dl:\n",
    "        inputs, = batch\n",
    "        out = model(inputs)\n",
    "        probs = torch.sigmoid(out)[:,0]\n",
    "        preds = (probs > 0.5).int()\n",
    "        all_preds += list(preds.numpy())\n",
    "    return all_preds"
   ]
  },
  {
   "cell_type": "code",
   "execution_count": 43,
   "id": "55c12e5b",
   "metadata": {
    "execution": {
     "iopub.execute_input": "2024-10-10T11:47:27.177443Z",
     "iopub.status.busy": "2024-10-10T11:47:27.176929Z",
     "iopub.status.idle": "2024-10-10T11:47:50.028655Z",
     "shell.execute_reply": "2024-10-10T11:47:50.027412Z"
    },
    "papermill": {
     "duration": 22.878064,
     "end_time": "2024-10-10T11:47:50.031675",
     "exception": false,
     "start_time": "2024-10-10T11:47:27.153611",
     "status": "completed"
    },
    "tags": []
   },
   "outputs": [],
   "source": [
    "test_preds = predict(model, test_dl)"
   ]
  },
  {
   "cell_type": "code",
   "execution_count": 44,
   "id": "4eca4a43",
   "metadata": {
    "execution": {
     "iopub.execute_input": "2024-10-10T11:47:50.078451Z",
     "iopub.status.busy": "2024-10-10T11:47:50.077882Z",
     "iopub.status.idle": "2024-10-10T11:47:50.087830Z",
     "shell.execute_reply": "2024-10-10T11:47:50.086490Z"
    },
    "papermill": {
     "duration": 0.035619,
     "end_time": "2024-10-10T11:47:50.090286",
     "exception": false,
     "start_time": "2024-10-10T11:47:50.054667",
     "status": "completed"
    },
    "tags": []
   },
   "outputs": [
    {
     "data": {
      "text/plain": [
       "[0, 0, 0, 0, 0, 0, 0, 0, 0, 0, 0, 0, 0, 0, 0, 0, 0, 0, 0, 0]"
      ]
     },
     "execution_count": 44,
     "metadata": {},
     "output_type": "execute_result"
    }
   ],
   "source": [
    "test_preds[:20]"
   ]
  },
  {
   "cell_type": "code",
   "execution_count": 45,
   "id": "a11ac68f",
   "metadata": {
    "execution": {
     "iopub.execute_input": "2024-10-10T11:47:50.136087Z",
     "iopub.status.busy": "2024-10-10T11:47:50.135509Z",
     "iopub.status.idle": "2024-10-10T11:47:50.623035Z",
     "shell.execute_reply": "2024-10-10T11:47:50.621940Z"
    },
    "papermill": {
     "duration": 0.514806,
     "end_time": "2024-10-10T11:47:50.626749",
     "exception": false,
     "start_time": "2024-10-10T11:47:50.111943",
     "status": "completed"
    },
    "tags": []
   },
   "outputs": [],
   "source": [
    "sub_df=pd.read_csv(sub_fname)"
   ]
  },
  {
   "cell_type": "code",
   "execution_count": 46,
   "id": "7bf8bf4d",
   "metadata": {
    "execution": {
     "iopub.execute_input": "2024-10-10T11:47:50.676168Z",
     "iopub.status.busy": "2024-10-10T11:47:50.674984Z",
     "iopub.status.idle": "2024-10-10T11:47:55.149116Z",
     "shell.execute_reply": "2024-10-10T11:47:55.147722Z"
    },
    "papermill": {
     "duration": 4.50356,
     "end_time": "2024-10-10T11:47:55.152447",
     "exception": false,
     "start_time": "2024-10-10T11:47:50.648887",
     "status": "completed"
    },
    "tags": []
   },
   "outputs": [],
   "source": [
    "sub_df.prediction = test_preds\n",
    "sub_df.to_csv('submission.csv', index=None)"
   ]
  },
  {
   "cell_type": "code",
   "execution_count": null,
   "id": "dc09620d",
   "metadata": {
    "papermill": {
     "duration": 0.022408,
     "end_time": "2024-10-10T11:47:55.197718",
     "exception": false,
     "start_time": "2024-10-10T11:47:55.175310",
     "status": "completed"
    },
    "tags": []
   },
   "outputs": [],
   "source": []
  }
 ],
 "metadata": {
  "kaggle": {
   "accelerator": "none",
   "dataSources": [
    {
     "databundleVersionId": 290346,
     "sourceId": 10737,
     "sourceType": "competition"
    }
   ],
   "dockerImageVersionId": 30786,
   "isGpuEnabled": false,
   "isInternetEnabled": false,
   "language": "python",
   "sourceType": "notebook"
  },
  "kernelspec": {
   "display_name": "Python 3",
   "language": "python",
   "name": "python3"
  },
  "language_info": {
   "codemirror_mode": {
    "name": "ipython",
    "version": 3
   },
   "file_extension": ".py",
   "mimetype": "text/x-python",
   "name": "python",
   "nbconvert_exporter": "python",
   "pygments_lexer": "ipython3",
   "version": "3.10.14"
  },
  "papermill": {
   "default_parameters": {},
   "duration": 5462.665082,
   "end_time": "2024-10-10T11:47:58.631539",
   "environment_variables": {},
   "exception": null,
   "input_path": "__notebook__.ipynb",
   "output_path": "__notebook__.ipynb",
   "parameters": {},
   "start_time": "2024-10-10T10:16:55.966457",
   "version": "2.6.0"
  }
 },
 "nbformat": 4,
 "nbformat_minor": 5
}
